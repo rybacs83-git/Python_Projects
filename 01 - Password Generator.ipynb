{
 "cells": [
  {
   "cell_type": "markdown",
   "id": "aee95cd3",
   "metadata": {},
   "source": [
    "# Password Generator\n",
    "\n",
    "Create a password generator.\n",
    "\n",
    "The password should in this format (with a dash `-` every 4th character).\n",
    "\n",
    "- `vr)5-x?C(-8FNh-SkfD`\n",
    "\n",
    "The password should have:\n",
    "- at least one lowercase character: `abcdefghijklmnopqrstuvwxyz`\n",
    "- at least one uppercase character: `ABCDEFGHIJKLMNOPQRSTUVWXYZ`\n",
    "- at least one decimal: `01234567890`\n",
    "- at least one special character: `!@#$%^&*()?`"
   ]
  },
  {
   "cell_type": "code",
   "execution_count": 22,
   "id": "0e8a15b7",
   "metadata": {},
   "outputs": [],
   "source": [
    "import random"
   ]
  },
  {
   "cell_type": "code",
   "execution_count": 23,
   "id": "1dfbf4bd",
   "metadata": {},
   "outputs": [],
   "source": [
    "def code_generator():\n",
    "    p_lower = 'abcdefghijklmnopqrstuvwxyz'\n",
    "    p_upper = p_lower.upper()\n",
    "    p_number = '0123456789'\n",
    "    p_special_char = '!@#$%^&*()?'\n",
    "    \n",
    "    code = p_lower + p_upper + p_number + p_special_char\n",
    "    \n",
    "    return code"
   ]
  },
  {
   "cell_type": "code",
   "execution_count": 24,
   "id": "4ac78265",
   "metadata": {},
   "outputs": [],
   "source": [
    "def password_generator(code):\n",
    "    passcode = ''\n",
    "    \n",
    "    for i in range(1, 20, 1):\n",
    "        if i % 5 == 0:\n",
    "            passcode += \"-\"\n",
    "        else:\n",
    "            passcode += random.choice(code)\n",
    "    \n",
    "    return passcode\n",
    "        \n",
    "        "
   ]
  },
  {
   "cell_type": "code",
   "execution_count": 25,
   "id": "160cf8e6",
   "metadata": {},
   "outputs": [],
   "source": [
    "def password_checker(gen_passcode):\n",
    "    pass_len = len(gen_passcode)\n",
    "    if pass_len != 19:\n",
    "        password = 'password length should be 19 characters'\n",
    "    \n",
    "    for char in gen_passcode:\n",
    "        for char in gen_passcode:\n",
    "            if char.upper() == True:\n",
    "                password = True\n",
    "            else:\n",
    "                password =  'password requires at least 1 upper case'\n",
    "        for char in gen_passcode:\n",
    "            if char.lower() == True:\n",
    "                password =  True\n",
    "            else:\n",
    "                password = 'password requires at least 1 lower case'\n",
    "        for char in gen_passcode:\n",
    "            if char not in '!@#$%^&*()?':\n",
    "                password = 'password requires at least 1 special characters'\n",
    "            else:\n",
    "                password = True\n",
    "    \n",
    "    for d in range(1, pass_len, 1):\n",
    "        if d % 5 == 0:\n",
    "            if gen_passcode[d -1] != \"-\":\n",
    "                password = 'password requires dash (-) every after 4 characters'\n",
    "    \n",
    "    return password, gen_passcode"
   ]
  },
  {
   "cell_type": "code",
   "execution_count": 26,
   "id": "f4934a7e",
   "metadata": {},
   "outputs": [],
   "source": [
    "def print_password(gen_passcode):\n",
    "    print(f'Your new password is {gen_passcode}')"
   ]
  },
  {
   "cell_type": "code",
   "execution_count": 27,
   "id": "3aaf36ed",
   "metadata": {},
   "outputs": [],
   "source": [
    "def main():\n",
    "    while True:\n",
    "        code1 = code_generator()\n",
    "        gen_passcode = password_generator(code1)\n",
    "        check, gen_password = password_checker(gen_passcode)\n",
    "        if check:\n",
    "            print_password(gen_password)\n",
    "            break\n",
    "        else:\n",
    "            print(gen_password)\n",
    "\n",
    "\n"
   ]
  },
  {
   "cell_type": "code",
   "execution_count": 28,
   "id": "2580eeba",
   "metadata": {},
   "outputs": [
    {
     "name": "stdout",
     "output_type": "stream",
     "text": [
      "Your new password is mlK@-zsq&-%AMt-F)Xz\n"
     ]
    }
   ],
   "source": [
    "main()"
   ]
  },
  {
   "cell_type": "code",
   "execution_count": null,
   "id": "c1ac357e",
   "metadata": {},
   "outputs": [],
   "source": []
  }
 ],
 "metadata": {
  "kernelspec": {
   "display_name": "Python 3 (ipykernel)",
   "language": "python",
   "name": "python3"
  },
  "language_info": {
   "codemirror_mode": {
    "name": "ipython",
    "version": 3
   },
   "file_extension": ".py",
   "mimetype": "text/x-python",
   "name": "python",
   "nbconvert_exporter": "python",
   "pygments_lexer": "ipython3",
   "version": "3.10.4"
  }
 },
 "nbformat": 4,
 "nbformat_minor": 5
}
