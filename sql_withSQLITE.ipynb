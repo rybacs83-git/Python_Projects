{
 "cells": [
  {
   "cell_type": "code",
   "execution_count": null,
   "id": "cef3646a",
   "metadata": {},
   "outputs": [],
   "source": [
    "#import needed libraries\n",
    "import sqlite3\n",
    "#from sqlite3 import Error\n",
    "import csv\n"
   ]
  },
  {
   "cell_type": "code",
   "execution_count": null,
   "id": "72a0c559",
   "metadata": {},
   "outputs": [],
   "source": [
    "#Updating database table using python script\n",
    "#Create connection to database\n",
    "conn = sqlite3.connect(r'D:\\apps\\SQL ESSENTIAL TRAINING\\SQLiteStudio-3.2.1\\SQLiteStudio\\test')\n",
    "cursor = conn.cursor()\n",
    "\n",
    "\n",
    "# Read data from csv file\n",
    "with open('D:\\personal\\python\\sql_data_entry.csv', 'r') as file:\n",
    "    csv_data = csv.reader(file)\n",
    "    next(csv_data) #skip the header\n",
    "    for row in csv_data: \n",
    "        _name = row[0] #assigning value according to header\n",
    "        _age = row[1]\n",
    "        _address = row[2]\n",
    "        #Updating the database table by using INSERT INTO function\n",
    "        cursor.execute(\"INSERT INTO director (name, age, address) VALUES (?,?,?)\",\n",
    "                       (_name,_age,_address))\n",
    "\n",
    "#Commit changes and close database connection\n",
    "conn.commit()\n",
    "cursor.close() \n",
    "conn.close()\n",
    "\n"
   ]
  },
  {
   "cell_type": "code",
   "execution_count": null,
   "id": "3117e4fe",
   "metadata": {},
   "outputs": [],
   "source": []
  }
 ],
 "metadata": {
  "kernelspec": {
   "display_name": "Python 3 (ipykernel)",
   "language": "python",
   "name": "python3"
  },
  "language_info": {
   "codemirror_mode": {
    "name": "ipython",
    "version": 3
   },
   "file_extension": ".py",
   "mimetype": "text/x-python",
   "name": "python",
   "nbconvert_exporter": "python",
   "pygments_lexer": "ipython3",
   "version": "3.10.4"
  }
 },
 "nbformat": 4,
 "nbformat_minor": 5
}
