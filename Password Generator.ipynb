{
 "cells": [
  {
   "cell_type": "markdown",
   "id": "aee95cd3",
   "metadata": {},
   "source": [
    "# Password Generator\n",
    "\n",
    "Create a password generator.\n",
    "\n",
    "The password should in this format (with a dash `-` every 4th character).\n",
    "\n",
    "- `vr)5-x?C(-8FNh-SkfD`\n",
    "\n",
    "The password should have:\n",
    "- at least one lowercase character: `abcdefghijklmnopqrstuvwxyz`\n",
    "- at least one uppercase character: `ABCDEFGHIJKLMNOPQRSTUVWXYZ`\n",
    "- at least one decimal: `01234567890`\n",
    "- at least one special character: `!@#$%^&*()?`"
   ]
  },
  {
   "cell_type": "code",
   "execution_count": 64,
   "id": "0e8a15b7",
   "metadata": {},
   "outputs": [],
   "source": [
    "import random"
   ]
  },
  {
   "cell_type": "code",
   "execution_count": 65,
   "id": "1dfbf4bd",
   "metadata": {},
   "outputs": [],
   "source": [
    "def code_generator():\n",
    "\"\"\"\n",
    "create a set of string with characters required to create a strong password\n",
    "\"\"\"\n",
    "    p_lower = 'abcdefghijklmnopqrstuvwxyz'\n",
    "    p_upper = p_lower.upper()\n",
    "    p_number = '0123456789'\n",
    "    p_special_char = '!@#$%^&*()?'\n",
    "    \n",
    "    code = p_lower + p_upper + p_number + p_special_char\n",
    "    \n",
    "    return code"
   ]
  },
  {
   "cell_type": "code",
   "execution_count": 66,
   "id": "4ac78265",
   "metadata": {},
   "outputs": [],
   "source": [
    "def password_generator(code):\n",
    "\"\"\"\n",
    "Generate a random password combination from variable code and assigned to variable passcode\n",
    "\"\"\"\n",
    "    passcode = ''\n",
    "    \n",
    "    for i in range(1, 20, 1):\n",
    "        if i % 5 == 0:\n",
    "            passcode += \"-\"\n",
    "        else:\n",
    "            passcode += random.choice(code)\n",
    "    \n",
    "    return passcode\n",
    "\n"
   ]
  },
  {
   "cell_type": "code",
   "execution_count": 67,
   "id": "160cf8e6",
   "metadata": {},
   "outputs": [],
   "source": [
    "def password_checker(gen_passcode):\n",
    "    \n",
    "\"\"\"\n",
    "Checks the newly generated code if all the requirements are satisfied\n",
    "\"\"\"\n",
    "    for char in gen_passcode:\n",
    "        for char in gen_passcode:\n",
    "            if char.upper() == True:\n",
    "                password = True\n",
    "            else:\n",
    "                password =  False\n",
    "        for char in gen_passcode:\n",
    "            if char.lower() == True:\n",
    "                password =  True\n",
    "            else:\n",
    "                password = False\n",
    "        for char in gen_passcode:\n",
    "            if char not in '!@#$%^&*()?':\n",
    "                password = False\n",
    "            else:\n",
    "                password = True\n",
    "    \n",
    "    for _ in range(1, len(gen_passcode), 1):\n",
    "        if _ % 5 == 0:\n",
    "            if gen_passcode[_ -1] != \"-\":\n",
    "                password = False\n",
    "    \n",
    "    return password, gen_passcode\n",
    "\n",
    "\n"
   ]
  },
  {
   "cell_type": "code",
   "execution_count": 68,
   "id": "f4934a7e",
   "metadata": {},
   "outputs": [],
   "source": [
    "def print_password(gen_passcode):\n",
    "\"\"\"\n",
    "Printing the generated password\n",
    "\"\"\"\n",
    "    print(f'Your new password is {gen_passcode}')"
   ]
  },
  {
   "cell_type": "code",
   "execution_count": 71,
   "id": "3aaf36ed",
   "metadata": {},
   "outputs": [],
   "source": [
    "def main():\n",
    "\"\"\"\n",
    "Main function that will with loop if one of the requirement is not met\n",
    "\"\"\"\n",
    "    while True:\n",
    "        code1 = code_generator()\n",
    "        gen_passcode = password_generator(code1)\n",
    "        check, gen_password = password_checker(gen_passcode)\n",
    "        if check:\n",
    "            print_password(gen_password)\n",
    "            break\n",
    "\n",
    "\n"
   ]
  },
  {
   "cell_type": "code",
   "execution_count": 72,
   "id": "2580eeba",
   "metadata": {},
   "outputs": [
    {
     "name": "stdout",
     "output_type": "stream",
     "text": [
      "Your new password is Bm)Q-aCXZ-3dbL-OA3%\n"
     ]
    }
   ],
   "source": [
    "main()"
   ]
  },
  {
   "cell_type": "code",
   "execution_count": null,
   "id": "c1ac357e",
   "metadata": {},
   "outputs": [],
   "source": []
  }
 ],
 "metadata": {
  "kernelspec": {
   "display_name": "Python 3 (ipykernel)",
   "language": "python",
   "name": "python3"
  },
  "language_info": {
   "codemirror_mode": {
    "name": "ipython",
    "version": 3
   },
   "file_extension": ".py",
   "mimetype": "text/x-python",
   "name": "python",
   "nbconvert_exporter": "python",
   "pygments_lexer": "ipython3",
   "version": "3.10.4"
  }
 },
 "nbformat": 4,
 "nbformat_minor": 5
}
