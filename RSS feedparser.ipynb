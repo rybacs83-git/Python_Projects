{
 "cells": [
  {
   "cell_type": "code",
   "execution_count": null,
   "id": "5326a086",
   "metadata": {},
   "outputs": [],
   "source": [
    "import feedparser\n",
    "import csv\n",
    "from datetime import datetime"
   ]
  },
  {
   "cell_type": "code",
   "execution_count": null,
   "id": "e847f076",
   "metadata": {},
   "outputs": [],
   "source": [
    "news_feed = feedparser.parse(\"https://rss.nytimes.com/services/xml/rss/nyt/NYRegion.xml\")\n",
    "rss_dict = []\n",
    "\n",
    "for entry in news_feed.entries:\n",
    "    title = entry['title']\n",
    "    link = entry['link']\n",
    "    published_str = entry['published'] \n",
    "    published_formatted = datetime.strptime(published_str, '%a, %d %b %Y %H:%M:%S %z')\n",
    "    published = published_formatted.strftime(\"%m-%d-%Y\")\n",
    "    \n",
    "    rss_dict.append({\n",
    "        'Title': title,\n",
    "        'Link': link,\n",
    "        'Date Published': published\n",
    "    })\n",
    "    \n",
    "# print(title, link, published)\n",
    "# print(type(published))\n",
    "\n",
    "with open('rss_entries.csv', 'w', newline=\"\") as f: #create the test.csv file\n",
    "    csv_writer = csv.DictWriter(f, fieldnames = [\"Title\" , \"Link\", 'Date Published'])\n",
    "    csv_writer.writeheader()\n",
    "    \n",
    "    for data in rss_dict: # generator; was sheet.rows\n",
    "        csv_writer.writerow(data)"
   ]
  },
  {
   "cell_type": "code",
   "execution_count": null,
   "id": "ec937573",
   "metadata": {},
   "outputs": [],
   "source": []
  }
 ],
 "metadata": {
  "kernelspec": {
   "display_name": "Python 3 (ipykernel)",
   "language": "python",
   "name": "python3"
  },
  "language_info": {
   "codemirror_mode": {
    "name": "ipython",
    "version": 3
   },
   "file_extension": ".py",
   "mimetype": "text/x-python",
   "name": "python",
   "nbconvert_exporter": "python",
   "pygments_lexer": "ipython3",
   "version": "3.10.4"
  }
 },
 "nbformat": 4,
 "nbformat_minor": 5
}
